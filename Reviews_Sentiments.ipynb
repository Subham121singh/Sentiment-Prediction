{
  "nbformat": 4,
  "nbformat_minor": 0,
  "metadata": {
    "colab": {
      "name": "Reviews_Sentiments.ipynb",
      "provenance": []
    },
    "kernelspec": {
      "name": "python3",
      "display_name": "Python 3"
    },
    "language_info": {
      "name": "python"
    }
  },
  "cells": [
    {
      "cell_type": "code",
      "execution_count": null,
      "metadata": {
        "id": "XxFDewPtgvHd"
      },
      "outputs": [],
      "source": [
        "import pandas as pd\n",
        "import numpy as np\n",
        "import matplotlib.pyplot as plt\n",
        "import seaborn as sns\n",
        "import os\n",
        "import re\n",
        "import nltk\n",
        "from nltk.corpus import stopwords\n",
        "from sklearn.model_selection import train_test_split\n",
        "from sklearn.feature_extraction.text import CountVectorizer\n",
        "from sklearn.feature_extraction.text import TfidfVectorizer\n",
        "from sklearn.linear_model import LogisticRegression\n",
        "from sklearn import svm\n",
        "from sklearn.tree import DecisionTreeClassifier\n",
        "from sklearn.ensemble import RandomForestClassifier\n",
        "from sklearn.metrics import accuracy_score, log_loss, confusion_matrix\n",
        "from sklearn.metrics import precision_recall_curve, auc, roc_curve, roc_auc_score\n"
      ]
    },
    {
      "cell_type": "code",
      "source": [
        "from google.colab import drive\n",
        "drive.mount('/content/drive')"
      ],
      "metadata": {
        "id": "a4UCSuMihJcm"
      },
      "execution_count": null,
      "outputs": []
    },
    {
      "cell_type": "markdown",
      "source": [
        "#### Data Source - https://archive.ics.uci.edu/ml/datasets/Sentiment+Labelled+Sentences#\n"
      ],
      "metadata": {
        "id": "7h2bJK8r55Pe"
      }
    },
    {
      "cell_type": "code",
      "source": [
        "# https://colab.research.google.com/github/sudo-ken/compress-decompress-in-Google-Drive/blob/master/Unrar_Unzip_Rar_Zip_in_GDrive.ipynb#scrollTo=o1PFiGyMAMvg\n",
        "!wget 'https://archive.ics.uci.edu/ml/machine-learning-databases/00331/sentiment%20labelled%20sentences.zip'"
      ],
      "metadata": {
        "colab": {
          "base_uri": "https://localhost:8080/"
        },
        "id": "pmY2hP5v4DpI",
        "outputId": "2c8f3fa4-43a3-4cd8-e2fd-f1f9bd55e50b"
      },
      "execution_count": null,
      "outputs": [
        {
          "output_type": "stream",
          "name": "stdout",
          "text": [
            "--2022-03-18 17:46:24--  https://archive.ics.uci.edu/ml/machine-learning-databases/00331/sentiment%20labelled%20sentences.zip\n",
            "Resolving archive.ics.uci.edu (archive.ics.uci.edu)... 128.195.10.252\n",
            "Connecting to archive.ics.uci.edu (archive.ics.uci.edu)|128.195.10.252|:443... connected.\n",
            "HTTP request sent, awaiting response... 200 OK\n",
            "Length: 84188 (82K) [application/x-httpd-php]\n",
            "Saving to: ‘sentiment labelled sentences.zip’\n",
            "\n",
            "\r          sentiment   0%[                    ]       0  --.-KB/s               \rsentiment labelled  100%[===================>]  82.21K  --.-KB/s    in 0.02s   \n",
            "\n",
            "2022-03-18 17:46:24 (3.57 MB/s) - ‘sentiment labelled sentences.zip’ saved [84188/84188]\n",
            "\n"
          ]
        }
      ]
    },
    {
      "cell_type": "code",
      "source": [
        "!unzip '/content/sentiment labelled sentences.zip' -d '/content/drive/MyDrive/Colab Notebooks/'"
      ],
      "metadata": {
        "colab": {
          "base_uri": "https://localhost:8080/"
        },
        "id": "DG_X38D13h2q",
        "outputId": "9e22f60e-771b-413e-a1d1-b9e29a62e33b"
      },
      "execution_count": null,
      "outputs": [
        {
          "output_type": "stream",
          "name": "stdout",
          "text": [
            "Archive:  /content/sentiment labelled sentences.zip\n",
            "   creating: /content/drive/MyDrive/Colab Notebooks/sentiment labelled sentences/\n",
            "  inflating: /content/drive/MyDrive/Colab Notebooks/sentiment labelled sentences/.DS_Store  \n",
            "   creating: /content/drive/MyDrive/Colab Notebooks/__MACOSX/\n",
            "   creating: /content/drive/MyDrive/Colab Notebooks/__MACOSX/sentiment labelled sentences/\n",
            "  inflating: /content/drive/MyDrive/Colab Notebooks/__MACOSX/sentiment labelled sentences/._.DS_Store  \n",
            "  inflating: /content/drive/MyDrive/Colab Notebooks/sentiment labelled sentences/amazon_cells_labelled.txt  \n",
            "  inflating: /content/drive/MyDrive/Colab Notebooks/sentiment labelled sentences/imdb_labelled.txt  \n",
            "  inflating: /content/drive/MyDrive/Colab Notebooks/__MACOSX/sentiment labelled sentences/._imdb_labelled.txt  \n",
            "  inflating: /content/drive/MyDrive/Colab Notebooks/sentiment labelled sentences/readme.txt  \n",
            "  inflating: /content/drive/MyDrive/Colab Notebooks/__MACOSX/sentiment labelled sentences/._readme.txt  \n",
            "  inflating: /content/drive/MyDrive/Colab Notebooks/sentiment labelled sentences/yelp_labelled.txt  \n",
            "  inflating: /content/drive/MyDrive/Colab Notebooks/__MACOSX/._sentiment labelled sentences  \n"
          ]
        }
      ]
    },
    {
      "cell_type": "code",
      "source": [
        "with open('/content/drive/MyDrive/Colab Notebooks/sentiment labelled sentences/imdb_labelled.txt','r') as file:\n",
        "  for i in range(5):\n",
        "    print(file.readline()) #Printing first 5 lines of imdb data\n",
        "  file.close()"
      ],
      "metadata": {
        "id": "mkuFFiUv5KZ6",
        "colab": {
          "base_uri": "https://localhost:8080/"
        },
        "outputId": "30e4ee42-e042-44d1-818e-e89ffe70eeef"
      },
      "execution_count": null,
      "outputs": [
        {
          "output_type": "stream",
          "name": "stdout",
          "text": [
            "A very, very, very slow-moving, aimless movie about a distressed, drifting young man.  \t0\n",
            "\n",
            "Not sure who was more lost - the flat characters or the audience, nearly half of whom walked out.  \t0\n",
            "\n",
            "Attempting artiness with black & white and clever camera angles, the movie disappointed - became even more ridiculous - as the acting was poor and the plot and lines almost non-existent.  \t0\n",
            "\n",
            "Very little music or anything to speak of.  \t0\n",
            "\n",
            "The best scene in the movie was when Gerardo is trying to find a song that keeps running through his head.  \t1\n",
            "\n"
          ]
        }
      ]
    },
    {
      "cell_type": "code",
      "source": [
        "amazn_df = pd.read_csv('/content/drive/MyDrive/Colab Notebooks/sentiment labelled sentences/amazon_cells_labelled.txt', \n",
        "            names =['text','label'], header=None, delimiter='\\t')\n",
        "amazn_df['source'] = 'amazon'"
      ],
      "metadata": {
        "id": "m2tK1FyA5oLC"
      },
      "execution_count": null,
      "outputs": []
    },
    {
      "cell_type": "code",
      "source": [
        "amazn_df.head()"
      ],
      "metadata": {
        "colab": {
          "base_uri": "https://localhost:8080/",
          "height": 206
        },
        "id": "Ew0OYU0y8ij4",
        "outputId": "70246a71-e82a-418e-f2f2-d73546c6085a"
      },
      "execution_count": null,
      "outputs": [
        {
          "output_type": "execute_result",
          "data": {
            "text/plain": [
              "                                                text  label  source\n",
              "0  So there is no way for me to plug it in here i...      0  amazon\n",
              "1                        Good case, Excellent value.      1  amazon\n",
              "2                             Great for the jawbone.      1  amazon\n",
              "3  Tied to charger for conversations lasting more...      0  amazon\n",
              "4                                  The mic is great.      1  amazon"
            ],
            "text/html": [
              "\n",
              "  <div id=\"df-a7086032-4f00-4e6a-b550-21666b01fd69\">\n",
              "    <div class=\"colab-df-container\">\n",
              "      <div>\n",
              "<style scoped>\n",
              "    .dataframe tbody tr th:only-of-type {\n",
              "        vertical-align: middle;\n",
              "    }\n",
              "\n",
              "    .dataframe tbody tr th {\n",
              "        vertical-align: top;\n",
              "    }\n",
              "\n",
              "    .dataframe thead th {\n",
              "        text-align: right;\n",
              "    }\n",
              "</style>\n",
              "<table border=\"1\" class=\"dataframe\">\n",
              "  <thead>\n",
              "    <tr style=\"text-align: right;\">\n",
              "      <th></th>\n",
              "      <th>text</th>\n",
              "      <th>label</th>\n",
              "      <th>source</th>\n",
              "    </tr>\n",
              "  </thead>\n",
              "  <tbody>\n",
              "    <tr>\n",
              "      <th>0</th>\n",
              "      <td>So there is no way for me to plug it in here i...</td>\n",
              "      <td>0</td>\n",
              "      <td>amazon</td>\n",
              "    </tr>\n",
              "    <tr>\n",
              "      <th>1</th>\n",
              "      <td>Good case, Excellent value.</td>\n",
              "      <td>1</td>\n",
              "      <td>amazon</td>\n",
              "    </tr>\n",
              "    <tr>\n",
              "      <th>2</th>\n",
              "      <td>Great for the jawbone.</td>\n",
              "      <td>1</td>\n",
              "      <td>amazon</td>\n",
              "    </tr>\n",
              "    <tr>\n",
              "      <th>3</th>\n",
              "      <td>Tied to charger for conversations lasting more...</td>\n",
              "      <td>0</td>\n",
              "      <td>amazon</td>\n",
              "    </tr>\n",
              "    <tr>\n",
              "      <th>4</th>\n",
              "      <td>The mic is great.</td>\n",
              "      <td>1</td>\n",
              "      <td>amazon</td>\n",
              "    </tr>\n",
              "  </tbody>\n",
              "</table>\n",
              "</div>\n",
              "      <button class=\"colab-df-convert\" onclick=\"convertToInteractive('df-a7086032-4f00-4e6a-b550-21666b01fd69')\"\n",
              "              title=\"Convert this dataframe to an interactive table.\"\n",
              "              style=\"display:none;\">\n",
              "        \n",
              "  <svg xmlns=\"http://www.w3.org/2000/svg\" height=\"24px\"viewBox=\"0 0 24 24\"\n",
              "       width=\"24px\">\n",
              "    <path d=\"M0 0h24v24H0V0z\" fill=\"none\"/>\n",
              "    <path d=\"M18.56 5.44l.94 2.06.94-2.06 2.06-.94-2.06-.94-.94-2.06-.94 2.06-2.06.94zm-11 1L8.5 8.5l.94-2.06 2.06-.94-2.06-.94L8.5 2.5l-.94 2.06-2.06.94zm10 10l.94 2.06.94-2.06 2.06-.94-2.06-.94-.94-2.06-.94 2.06-2.06.94z\"/><path d=\"M17.41 7.96l-1.37-1.37c-.4-.4-.92-.59-1.43-.59-.52 0-1.04.2-1.43.59L10.3 9.45l-7.72 7.72c-.78.78-.78 2.05 0 2.83L4 21.41c.39.39.9.59 1.41.59.51 0 1.02-.2 1.41-.59l7.78-7.78 2.81-2.81c.8-.78.8-2.07 0-2.86zM5.41 20L4 18.59l7.72-7.72 1.47 1.35L5.41 20z\"/>\n",
              "  </svg>\n",
              "      </button>\n",
              "      \n",
              "  <style>\n",
              "    .colab-df-container {\n",
              "      display:flex;\n",
              "      flex-wrap:wrap;\n",
              "      gap: 12px;\n",
              "    }\n",
              "\n",
              "    .colab-df-convert {\n",
              "      background-color: #E8F0FE;\n",
              "      border: none;\n",
              "      border-radius: 50%;\n",
              "      cursor: pointer;\n",
              "      display: none;\n",
              "      fill: #1967D2;\n",
              "      height: 32px;\n",
              "      padding: 0 0 0 0;\n",
              "      width: 32px;\n",
              "    }\n",
              "\n",
              "    .colab-df-convert:hover {\n",
              "      background-color: #E2EBFA;\n",
              "      box-shadow: 0px 1px 2px rgba(60, 64, 67, 0.3), 0px 1px 3px 1px rgba(60, 64, 67, 0.15);\n",
              "      fill: #174EA6;\n",
              "    }\n",
              "\n",
              "    [theme=dark] .colab-df-convert {\n",
              "      background-color: #3B4455;\n",
              "      fill: #D2E3FC;\n",
              "    }\n",
              "\n",
              "    [theme=dark] .colab-df-convert:hover {\n",
              "      background-color: #434B5C;\n",
              "      box-shadow: 0px 1px 3px 1px rgba(0, 0, 0, 0.15);\n",
              "      filter: drop-shadow(0px 1px 2px rgba(0, 0, 0, 0.3));\n",
              "      fill: #FFFFFF;\n",
              "    }\n",
              "  </style>\n",
              "\n",
              "      <script>\n",
              "        const buttonEl =\n",
              "          document.querySelector('#df-a7086032-4f00-4e6a-b550-21666b01fd69 button.colab-df-convert');\n",
              "        buttonEl.style.display =\n",
              "          google.colab.kernel.accessAllowed ? 'block' : 'none';\n",
              "\n",
              "        async function convertToInteractive(key) {\n",
              "          const element = document.querySelector('#df-a7086032-4f00-4e6a-b550-21666b01fd69');\n",
              "          const dataTable =\n",
              "            await google.colab.kernel.invokeFunction('convertToInteractive',\n",
              "                                                     [key], {});\n",
              "          if (!dataTable) return;\n",
              "\n",
              "          const docLinkHtml = 'Like what you see? Visit the ' +\n",
              "            '<a target=\"_blank\" href=https://colab.research.google.com/notebooks/data_table.ipynb>data table notebook</a>'\n",
              "            + ' to learn more about interactive tables.';\n",
              "          element.innerHTML = '';\n",
              "          dataTable['output_type'] = 'display_data';\n",
              "          await google.colab.output.renderOutput(dataTable, element);\n",
              "          const docLink = document.createElement('div');\n",
              "          docLink.innerHTML = docLinkHtml;\n",
              "          element.appendChild(docLink);\n",
              "        }\n",
              "      </script>\n",
              "    </div>\n",
              "  </div>\n",
              "  "
            ]
          },
          "metadata": {},
          "execution_count": 6
        }
      ]
    },
    {
      "cell_type": "code",
      "source": [
        "imdb_df = pd.read_csv('/content/drive/MyDrive/Colab Notebooks/sentiment labelled sentences/imdb_labelled.txt', \n",
        "            names =['text','label'], header=None, delimiter='\\t')\n",
        "imdb_df['source'] = 'imdb'"
      ],
      "metadata": {
        "id": "ZM91Uy1X8Tae"
      },
      "execution_count": null,
      "outputs": []
    },
    {
      "cell_type": "code",
      "source": [
        "imdb_df.head(2)"
      ],
      "metadata": {
        "colab": {
          "base_uri": "https://localhost:8080/",
          "height": 112
        },
        "id": "Ut7gwdNuAcch",
        "outputId": "64979cab-5743-47e9-bf15-39d96619cf84"
      },
      "execution_count": null,
      "outputs": [
        {
          "output_type": "execute_result",
          "data": {
            "text/plain": [
              "                                                text  label source\n",
              "0  A very, very, very slow-moving, aimless movie ...      0   imdb\n",
              "1  Not sure who was more lost - the flat characte...      0   imdb"
            ],
            "text/html": [
              "\n",
              "  <div id=\"df-b68a780c-d5f1-4713-938f-94596fb015c9\">\n",
              "    <div class=\"colab-df-container\">\n",
              "      <div>\n",
              "<style scoped>\n",
              "    .dataframe tbody tr th:only-of-type {\n",
              "        vertical-align: middle;\n",
              "    }\n",
              "\n",
              "    .dataframe tbody tr th {\n",
              "        vertical-align: top;\n",
              "    }\n",
              "\n",
              "    .dataframe thead th {\n",
              "        text-align: right;\n",
              "    }\n",
              "</style>\n",
              "<table border=\"1\" class=\"dataframe\">\n",
              "  <thead>\n",
              "    <tr style=\"text-align: right;\">\n",
              "      <th></th>\n",
              "      <th>text</th>\n",
              "      <th>label</th>\n",
              "      <th>source</th>\n",
              "    </tr>\n",
              "  </thead>\n",
              "  <tbody>\n",
              "    <tr>\n",
              "      <th>0</th>\n",
              "      <td>A very, very, very slow-moving, aimless movie ...</td>\n",
              "      <td>0</td>\n",
              "      <td>imdb</td>\n",
              "    </tr>\n",
              "    <tr>\n",
              "      <th>1</th>\n",
              "      <td>Not sure who was more lost - the flat characte...</td>\n",
              "      <td>0</td>\n",
              "      <td>imdb</td>\n",
              "    </tr>\n",
              "  </tbody>\n",
              "</table>\n",
              "</div>\n",
              "      <button class=\"colab-df-convert\" onclick=\"convertToInteractive('df-b68a780c-d5f1-4713-938f-94596fb015c9')\"\n",
              "              title=\"Convert this dataframe to an interactive table.\"\n",
              "              style=\"display:none;\">\n",
              "        \n",
              "  <svg xmlns=\"http://www.w3.org/2000/svg\" height=\"24px\"viewBox=\"0 0 24 24\"\n",
              "       width=\"24px\">\n",
              "    <path d=\"M0 0h24v24H0V0z\" fill=\"none\"/>\n",
              "    <path d=\"M18.56 5.44l.94 2.06.94-2.06 2.06-.94-2.06-.94-.94-2.06-.94 2.06-2.06.94zm-11 1L8.5 8.5l.94-2.06 2.06-.94-2.06-.94L8.5 2.5l-.94 2.06-2.06.94zm10 10l.94 2.06.94-2.06 2.06-.94-2.06-.94-.94-2.06-.94 2.06-2.06.94z\"/><path d=\"M17.41 7.96l-1.37-1.37c-.4-.4-.92-.59-1.43-.59-.52 0-1.04.2-1.43.59L10.3 9.45l-7.72 7.72c-.78.78-.78 2.05 0 2.83L4 21.41c.39.39.9.59 1.41.59.51 0 1.02-.2 1.41-.59l7.78-7.78 2.81-2.81c.8-.78.8-2.07 0-2.86zM5.41 20L4 18.59l7.72-7.72 1.47 1.35L5.41 20z\"/>\n",
              "  </svg>\n",
              "      </button>\n",
              "      \n",
              "  <style>\n",
              "    .colab-df-container {\n",
              "      display:flex;\n",
              "      flex-wrap:wrap;\n",
              "      gap: 12px;\n",
              "    }\n",
              "\n",
              "    .colab-df-convert {\n",
              "      background-color: #E8F0FE;\n",
              "      border: none;\n",
              "      border-radius: 50%;\n",
              "      cursor: pointer;\n",
              "      display: none;\n",
              "      fill: #1967D2;\n",
              "      height: 32px;\n",
              "      padding: 0 0 0 0;\n",
              "      width: 32px;\n",
              "    }\n",
              "\n",
              "    .colab-df-convert:hover {\n",
              "      background-color: #E2EBFA;\n",
              "      box-shadow: 0px 1px 2px rgba(60, 64, 67, 0.3), 0px 1px 3px 1px rgba(60, 64, 67, 0.15);\n",
              "      fill: #174EA6;\n",
              "    }\n",
              "\n",
              "    [theme=dark] .colab-df-convert {\n",
              "      background-color: #3B4455;\n",
              "      fill: #D2E3FC;\n",
              "    }\n",
              "\n",
              "    [theme=dark] .colab-df-convert:hover {\n",
              "      background-color: #434B5C;\n",
              "      box-shadow: 0px 1px 3px 1px rgba(0, 0, 0, 0.15);\n",
              "      filter: drop-shadow(0px 1px 2px rgba(0, 0, 0, 0.3));\n",
              "      fill: #FFFFFF;\n",
              "    }\n",
              "  </style>\n",
              "\n",
              "      <script>\n",
              "        const buttonEl =\n",
              "          document.querySelector('#df-b68a780c-d5f1-4713-938f-94596fb015c9 button.colab-df-convert');\n",
              "        buttonEl.style.display =\n",
              "          google.colab.kernel.accessAllowed ? 'block' : 'none';\n",
              "\n",
              "        async function convertToInteractive(key) {\n",
              "          const element = document.querySelector('#df-b68a780c-d5f1-4713-938f-94596fb015c9');\n",
              "          const dataTable =\n",
              "            await google.colab.kernel.invokeFunction('convertToInteractive',\n",
              "                                                     [key], {});\n",
              "          if (!dataTable) return;\n",
              "\n",
              "          const docLinkHtml = 'Like what you see? Visit the ' +\n",
              "            '<a target=\"_blank\" href=https://colab.research.google.com/notebooks/data_table.ipynb>data table notebook</a>'\n",
              "            + ' to learn more about interactive tables.';\n",
              "          element.innerHTML = '';\n",
              "          dataTable['output_type'] = 'display_data';\n",
              "          await google.colab.output.renderOutput(dataTable, element);\n",
              "          const docLink = document.createElement('div');\n",
              "          docLink.innerHTML = docLinkHtml;\n",
              "          element.appendChild(docLink);\n",
              "        }\n",
              "      </script>\n",
              "    </div>\n",
              "  </div>\n",
              "  "
            ]
          },
          "metadata": {},
          "execution_count": 8
        }
      ]
    },
    {
      "cell_type": "code",
      "source": [
        "yelp_df = pd.read_csv('/content/drive/MyDrive/Colab Notebooks/sentiment labelled sentences/yelp_labelled.txt', \n",
        "            names =['text','label'], header=None, delimiter='\\t')\n",
        "yelp_df['source'] = 'yelp'"
      ],
      "metadata": {
        "id": "WIom2THk9idr"
      },
      "execution_count": null,
      "outputs": []
    },
    {
      "cell_type": "code",
      "source": [
        "yelp_df.info()"
      ],
      "metadata": {
        "colab": {
          "base_uri": "https://localhost:8080/"
        },
        "id": "9ivtfkWLAXAu",
        "outputId": "8a50952d-b9f8-4eb8-8105-c8068c2b9b9d"
      },
      "execution_count": null,
      "outputs": [
        {
          "output_type": "stream",
          "name": "stdout",
          "text": [
            "<class 'pandas.core.frame.DataFrame'>\n",
            "RangeIndex: 1000 entries, 0 to 999\n",
            "Data columns (total 2 columns):\n",
            " #   Column  Non-Null Count  Dtype \n",
            "---  ------  --------------  ----- \n",
            " 0   text    1000 non-null   object\n",
            " 1   label   1000 non-null   int64 \n",
            "dtypes: int64(1), object(1)\n",
            "memory usage: 15.8+ KB\n"
          ]
        }
      ]
    },
    {
      "cell_type": "code",
      "source": [
        "yelp_df.head(2)"
      ],
      "metadata": {
        "colab": {
          "base_uri": "https://localhost:8080/",
          "height": 112
        },
        "id": "djDq51rk-XjI",
        "outputId": "b4bb809c-61c3-4369-b985-173f812c34c0"
      },
      "execution_count": null,
      "outputs": [
        {
          "output_type": "execute_result",
          "data": {
            "text/plain": [
              "                       text  label source\n",
              "0  Wow... Loved this place.      1   yelp\n",
              "1        Crust is not good.      0   yelp"
            ],
            "text/html": [
              "\n",
              "  <div id=\"df-78ce77d8-fb16-4b95-86c3-0861ff31f859\">\n",
              "    <div class=\"colab-df-container\">\n",
              "      <div>\n",
              "<style scoped>\n",
              "    .dataframe tbody tr th:only-of-type {\n",
              "        vertical-align: middle;\n",
              "    }\n",
              "\n",
              "    .dataframe tbody tr th {\n",
              "        vertical-align: top;\n",
              "    }\n",
              "\n",
              "    .dataframe thead th {\n",
              "        text-align: right;\n",
              "    }\n",
              "</style>\n",
              "<table border=\"1\" class=\"dataframe\">\n",
              "  <thead>\n",
              "    <tr style=\"text-align: right;\">\n",
              "      <th></th>\n",
              "      <th>text</th>\n",
              "      <th>label</th>\n",
              "      <th>source</th>\n",
              "    </tr>\n",
              "  </thead>\n",
              "  <tbody>\n",
              "    <tr>\n",
              "      <th>0</th>\n",
              "      <td>Wow... Loved this place.</td>\n",
              "      <td>1</td>\n",
              "      <td>yelp</td>\n",
              "    </tr>\n",
              "    <tr>\n",
              "      <th>1</th>\n",
              "      <td>Crust is not good.</td>\n",
              "      <td>0</td>\n",
              "      <td>yelp</td>\n",
              "    </tr>\n",
              "  </tbody>\n",
              "</table>\n",
              "</div>\n",
              "      <button class=\"colab-df-convert\" onclick=\"convertToInteractive('df-78ce77d8-fb16-4b95-86c3-0861ff31f859')\"\n",
              "              title=\"Convert this dataframe to an interactive table.\"\n",
              "              style=\"display:none;\">\n",
              "        \n",
              "  <svg xmlns=\"http://www.w3.org/2000/svg\" height=\"24px\"viewBox=\"0 0 24 24\"\n",
              "       width=\"24px\">\n",
              "    <path d=\"M0 0h24v24H0V0z\" fill=\"none\"/>\n",
              "    <path d=\"M18.56 5.44l.94 2.06.94-2.06 2.06-.94-2.06-.94-.94-2.06-.94 2.06-2.06.94zm-11 1L8.5 8.5l.94-2.06 2.06-.94-2.06-.94L8.5 2.5l-.94 2.06-2.06.94zm10 10l.94 2.06.94-2.06 2.06-.94-2.06-.94-.94-2.06-.94 2.06-2.06.94z\"/><path d=\"M17.41 7.96l-1.37-1.37c-.4-.4-.92-.59-1.43-.59-.52 0-1.04.2-1.43.59L10.3 9.45l-7.72 7.72c-.78.78-.78 2.05 0 2.83L4 21.41c.39.39.9.59 1.41.59.51 0 1.02-.2 1.41-.59l7.78-7.78 2.81-2.81c.8-.78.8-2.07 0-2.86zM5.41 20L4 18.59l7.72-7.72 1.47 1.35L5.41 20z\"/>\n",
              "  </svg>\n",
              "      </button>\n",
              "      \n",
              "  <style>\n",
              "    .colab-df-container {\n",
              "      display:flex;\n",
              "      flex-wrap:wrap;\n",
              "      gap: 12px;\n",
              "    }\n",
              "\n",
              "    .colab-df-convert {\n",
              "      background-color: #E8F0FE;\n",
              "      border: none;\n",
              "      border-radius: 50%;\n",
              "      cursor: pointer;\n",
              "      display: none;\n",
              "      fill: #1967D2;\n",
              "      height: 32px;\n",
              "      padding: 0 0 0 0;\n",
              "      width: 32px;\n",
              "    }\n",
              "\n",
              "    .colab-df-convert:hover {\n",
              "      background-color: #E2EBFA;\n",
              "      box-shadow: 0px 1px 2px rgba(60, 64, 67, 0.3), 0px 1px 3px 1px rgba(60, 64, 67, 0.15);\n",
              "      fill: #174EA6;\n",
              "    }\n",
              "\n",
              "    [theme=dark] .colab-df-convert {\n",
              "      background-color: #3B4455;\n",
              "      fill: #D2E3FC;\n",
              "    }\n",
              "\n",
              "    [theme=dark] .colab-df-convert:hover {\n",
              "      background-color: #434B5C;\n",
              "      box-shadow: 0px 1px 3px 1px rgba(0, 0, 0, 0.15);\n",
              "      filter: drop-shadow(0px 1px 2px rgba(0, 0, 0, 0.3));\n",
              "      fill: #FFFFFF;\n",
              "    }\n",
              "  </style>\n",
              "\n",
              "      <script>\n",
              "        const buttonEl =\n",
              "          document.querySelector('#df-78ce77d8-fb16-4b95-86c3-0861ff31f859 button.colab-df-convert');\n",
              "        buttonEl.style.display =\n",
              "          google.colab.kernel.accessAllowed ? 'block' : 'none';\n",
              "\n",
              "        async function convertToInteractive(key) {\n",
              "          const element = document.querySelector('#df-78ce77d8-fb16-4b95-86c3-0861ff31f859');\n",
              "          const dataTable =\n",
              "            await google.colab.kernel.invokeFunction('convertToInteractive',\n",
              "                                                     [key], {});\n",
              "          if (!dataTable) return;\n",
              "\n",
              "          const docLinkHtml = 'Like what you see? Visit the ' +\n",
              "            '<a target=\"_blank\" href=https://colab.research.google.com/notebooks/data_table.ipynb>data table notebook</a>'\n",
              "            + ' to learn more about interactive tables.';\n",
              "          element.innerHTML = '';\n",
              "          dataTable['output_type'] = 'display_data';\n",
              "          await google.colab.output.renderOutput(dataTable, element);\n",
              "          const docLink = document.createElement('div');\n",
              "          docLink.innerHTML = docLinkHtml;\n",
              "          element.appendChild(docLink);\n",
              "        }\n",
              "      </script>\n",
              "    </div>\n",
              "  </div>\n",
              "  "
            ]
          },
          "metadata": {},
          "execution_count": 10
        }
      ]
    },
    {
      "cell_type": "markdown",
      "source": [
        "#### Storing All Data in CSV Format"
      ],
      "metadata": {
        "id": "O1_EBC4T_ZfG"
      }
    },
    {
      "cell_type": "code",
      "source": [
        "amazn_df.to_csv('/content/drive/MyDrive/Colab Notebooks/sentiment labelled sentences/amazon_labelled.csv', index=False)\n"
      ],
      "metadata": {
        "id": "lvtxKCH_-9OO"
      },
      "execution_count": null,
      "outputs": []
    },
    {
      "cell_type": "code",
      "source": [
        "imdb_df.to_csv('/content/drive/MyDrive/Colab Notebooks/sentiment labelled sentences/imdb_labelled.csv', index=False)\n",
        "yelp_df.to_csv('/content/drive/MyDrive/Colab Notebooks/sentiment labelled sentences/yelp_labelled.csv', index=False)\n"
      ],
      "metadata": {
        "id": "TaFZNRnq_Yf6"
      },
      "execution_count": null,
      "outputs": []
    },
    {
      "cell_type": "markdown",
      "source": [
        "#### Concatenating dataframes"
      ],
      "metadata": {
        "id": "H6dAD0cb_xUT"
      }
    },
    {
      "cell_type": "code",
      "source": [
        "data = pd.concat([amazn_df, imdb_df, yelp_df], axis=0, ignore_index=True)\n",
        "data.head(3)"
      ],
      "metadata": {
        "colab": {
          "base_uri": "https://localhost:8080/",
          "height": 143
        },
        "id": "u8g6Q1au_4Qn",
        "outputId": "0100d5a2-1730-4322-ae3e-7219e6119018"
      },
      "execution_count": null,
      "outputs": [
        {
          "output_type": "execute_result",
          "data": {
            "text/plain": [
              "                                                text  label  source\n",
              "0  So there is no way for me to plug it in here i...      0  amazon\n",
              "1                        Good case, Excellent value.      1  amazon\n",
              "2                             Great for the jawbone.      1  amazon"
            ],
            "text/html": [
              "\n",
              "  <div id=\"df-8441e4fd-547d-4893-950a-0d18f429200c\">\n",
              "    <div class=\"colab-df-container\">\n",
              "      <div>\n",
              "<style scoped>\n",
              "    .dataframe tbody tr th:only-of-type {\n",
              "        vertical-align: middle;\n",
              "    }\n",
              "\n",
              "    .dataframe tbody tr th {\n",
              "        vertical-align: top;\n",
              "    }\n",
              "\n",
              "    .dataframe thead th {\n",
              "        text-align: right;\n",
              "    }\n",
              "</style>\n",
              "<table border=\"1\" class=\"dataframe\">\n",
              "  <thead>\n",
              "    <tr style=\"text-align: right;\">\n",
              "      <th></th>\n",
              "      <th>text</th>\n",
              "      <th>label</th>\n",
              "      <th>source</th>\n",
              "    </tr>\n",
              "  </thead>\n",
              "  <tbody>\n",
              "    <tr>\n",
              "      <th>0</th>\n",
              "      <td>So there is no way for me to plug it in here i...</td>\n",
              "      <td>0</td>\n",
              "      <td>amazon</td>\n",
              "    </tr>\n",
              "    <tr>\n",
              "      <th>1</th>\n",
              "      <td>Good case, Excellent value.</td>\n",
              "      <td>1</td>\n",
              "      <td>amazon</td>\n",
              "    </tr>\n",
              "    <tr>\n",
              "      <th>2</th>\n",
              "      <td>Great for the jawbone.</td>\n",
              "      <td>1</td>\n",
              "      <td>amazon</td>\n",
              "    </tr>\n",
              "  </tbody>\n",
              "</table>\n",
              "</div>\n",
              "      <button class=\"colab-df-convert\" onclick=\"convertToInteractive('df-8441e4fd-547d-4893-950a-0d18f429200c')\"\n",
              "              title=\"Convert this dataframe to an interactive table.\"\n",
              "              style=\"display:none;\">\n",
              "        \n",
              "  <svg xmlns=\"http://www.w3.org/2000/svg\" height=\"24px\"viewBox=\"0 0 24 24\"\n",
              "       width=\"24px\">\n",
              "    <path d=\"M0 0h24v24H0V0z\" fill=\"none\"/>\n",
              "    <path d=\"M18.56 5.44l.94 2.06.94-2.06 2.06-.94-2.06-.94-.94-2.06-.94 2.06-2.06.94zm-11 1L8.5 8.5l.94-2.06 2.06-.94-2.06-.94L8.5 2.5l-.94 2.06-2.06.94zm10 10l.94 2.06.94-2.06 2.06-.94-2.06-.94-.94-2.06-.94 2.06-2.06.94z\"/><path d=\"M17.41 7.96l-1.37-1.37c-.4-.4-.92-.59-1.43-.59-.52 0-1.04.2-1.43.59L10.3 9.45l-7.72 7.72c-.78.78-.78 2.05 0 2.83L4 21.41c.39.39.9.59 1.41.59.51 0 1.02-.2 1.41-.59l7.78-7.78 2.81-2.81c.8-.78.8-2.07 0-2.86zM5.41 20L4 18.59l7.72-7.72 1.47 1.35L5.41 20z\"/>\n",
              "  </svg>\n",
              "      </button>\n",
              "      \n",
              "  <style>\n",
              "    .colab-df-container {\n",
              "      display:flex;\n",
              "      flex-wrap:wrap;\n",
              "      gap: 12px;\n",
              "    }\n",
              "\n",
              "    .colab-df-convert {\n",
              "      background-color: #E8F0FE;\n",
              "      border: none;\n",
              "      border-radius: 50%;\n",
              "      cursor: pointer;\n",
              "      display: none;\n",
              "      fill: #1967D2;\n",
              "      height: 32px;\n",
              "      padding: 0 0 0 0;\n",
              "      width: 32px;\n",
              "    }\n",
              "\n",
              "    .colab-df-convert:hover {\n",
              "      background-color: #E2EBFA;\n",
              "      box-shadow: 0px 1px 2px rgba(60, 64, 67, 0.3), 0px 1px 3px 1px rgba(60, 64, 67, 0.15);\n",
              "      fill: #174EA6;\n",
              "    }\n",
              "\n",
              "    [theme=dark] .colab-df-convert {\n",
              "      background-color: #3B4455;\n",
              "      fill: #D2E3FC;\n",
              "    }\n",
              "\n",
              "    [theme=dark] .colab-df-convert:hover {\n",
              "      background-color: #434B5C;\n",
              "      box-shadow: 0px 1px 3px 1px rgba(0, 0, 0, 0.15);\n",
              "      filter: drop-shadow(0px 1px 2px rgba(0, 0, 0, 0.3));\n",
              "      fill: #FFFFFF;\n",
              "    }\n",
              "  </style>\n",
              "\n",
              "      <script>\n",
              "        const buttonEl =\n",
              "          document.querySelector('#df-8441e4fd-547d-4893-950a-0d18f429200c button.colab-df-convert');\n",
              "        buttonEl.style.display =\n",
              "          google.colab.kernel.accessAllowed ? 'block' : 'none';\n",
              "\n",
              "        async function convertToInteractive(key) {\n",
              "          const element = document.querySelector('#df-8441e4fd-547d-4893-950a-0d18f429200c');\n",
              "          const dataTable =\n",
              "            await google.colab.kernel.invokeFunction('convertToInteractive',\n",
              "                                                     [key], {});\n",
              "          if (!dataTable) return;\n",
              "\n",
              "          const docLinkHtml = 'Like what you see? Visit the ' +\n",
              "            '<a target=\"_blank\" href=https://colab.research.google.com/notebooks/data_table.ipynb>data table notebook</a>'\n",
              "            + ' to learn more about interactive tables.';\n",
              "          element.innerHTML = '';\n",
              "          dataTable['output_type'] = 'display_data';\n",
              "          await google.colab.output.renderOutput(dataTable, element);\n",
              "          const docLink = document.createElement('div');\n",
              "          docLink.innerHTML = docLinkHtml;\n",
              "          element.appendChild(docLink);\n",
              "        }\n",
              "      </script>\n",
              "    </div>\n",
              "  </div>\n",
              "  "
            ]
          },
          "metadata": {},
          "execution_count": 16
        }
      ]
    },
    {
      "cell_type": "code",
      "source": [
        "data.tail(3)"
      ],
      "metadata": {
        "colab": {
          "base_uri": "https://localhost:8080/",
          "height": 143
        },
        "id": "u7nl3XKihdL6",
        "outputId": "7ab8903c-8d8d-497a-d867-3e85ab543732"
      },
      "execution_count": null,
      "outputs": [
        {
          "output_type": "execute_result",
          "data": {
            "text/plain": [
              "                                                   text  label source\n",
              "2745  Overall I was not impressed and would not go b...      0   yelp\n",
              "2746  The whole experience was underwhelming, and I ...      0   yelp\n",
              "2747  Then, as if I hadn't wasted enough of my life ...      0   yelp"
            ],
            "text/html": [
              "\n",
              "  <div id=\"df-5bea86dc-cf73-4f20-836d-dccc0d135a2f\">\n",
              "    <div class=\"colab-df-container\">\n",
              "      <div>\n",
              "<style scoped>\n",
              "    .dataframe tbody tr th:only-of-type {\n",
              "        vertical-align: middle;\n",
              "    }\n",
              "\n",
              "    .dataframe tbody tr th {\n",
              "        vertical-align: top;\n",
              "    }\n",
              "\n",
              "    .dataframe thead th {\n",
              "        text-align: right;\n",
              "    }\n",
              "</style>\n",
              "<table border=\"1\" class=\"dataframe\">\n",
              "  <thead>\n",
              "    <tr style=\"text-align: right;\">\n",
              "      <th></th>\n",
              "      <th>text</th>\n",
              "      <th>label</th>\n",
              "      <th>source</th>\n",
              "    </tr>\n",
              "  </thead>\n",
              "  <tbody>\n",
              "    <tr>\n",
              "      <th>2745</th>\n",
              "      <td>Overall I was not impressed and would not go b...</td>\n",
              "      <td>0</td>\n",
              "      <td>yelp</td>\n",
              "    </tr>\n",
              "    <tr>\n",
              "      <th>2746</th>\n",
              "      <td>The whole experience was underwhelming, and I ...</td>\n",
              "      <td>0</td>\n",
              "      <td>yelp</td>\n",
              "    </tr>\n",
              "    <tr>\n",
              "      <th>2747</th>\n",
              "      <td>Then, as if I hadn't wasted enough of my life ...</td>\n",
              "      <td>0</td>\n",
              "      <td>yelp</td>\n",
              "    </tr>\n",
              "  </tbody>\n",
              "</table>\n",
              "</div>\n",
              "      <button class=\"colab-df-convert\" onclick=\"convertToInteractive('df-5bea86dc-cf73-4f20-836d-dccc0d135a2f')\"\n",
              "              title=\"Convert this dataframe to an interactive table.\"\n",
              "              style=\"display:none;\">\n",
              "        \n",
              "  <svg xmlns=\"http://www.w3.org/2000/svg\" height=\"24px\"viewBox=\"0 0 24 24\"\n",
              "       width=\"24px\">\n",
              "    <path d=\"M0 0h24v24H0V0z\" fill=\"none\"/>\n",
              "    <path d=\"M18.56 5.44l.94 2.06.94-2.06 2.06-.94-2.06-.94-.94-2.06-.94 2.06-2.06.94zm-11 1L8.5 8.5l.94-2.06 2.06-.94-2.06-.94L8.5 2.5l-.94 2.06-2.06.94zm10 10l.94 2.06.94-2.06 2.06-.94-2.06-.94-.94-2.06-.94 2.06-2.06.94z\"/><path d=\"M17.41 7.96l-1.37-1.37c-.4-.4-.92-.59-1.43-.59-.52 0-1.04.2-1.43.59L10.3 9.45l-7.72 7.72c-.78.78-.78 2.05 0 2.83L4 21.41c.39.39.9.59 1.41.59.51 0 1.02-.2 1.41-.59l7.78-7.78 2.81-2.81c.8-.78.8-2.07 0-2.86zM5.41 20L4 18.59l7.72-7.72 1.47 1.35L5.41 20z\"/>\n",
              "  </svg>\n",
              "      </button>\n",
              "      \n",
              "  <style>\n",
              "    .colab-df-container {\n",
              "      display:flex;\n",
              "      flex-wrap:wrap;\n",
              "      gap: 12px;\n",
              "    }\n",
              "\n",
              "    .colab-df-convert {\n",
              "      background-color: #E8F0FE;\n",
              "      border: none;\n",
              "      border-radius: 50%;\n",
              "      cursor: pointer;\n",
              "      display: none;\n",
              "      fill: #1967D2;\n",
              "      height: 32px;\n",
              "      padding: 0 0 0 0;\n",
              "      width: 32px;\n",
              "    }\n",
              "\n",
              "    .colab-df-convert:hover {\n",
              "      background-color: #E2EBFA;\n",
              "      box-shadow: 0px 1px 2px rgba(60, 64, 67, 0.3), 0px 1px 3px 1px rgba(60, 64, 67, 0.15);\n",
              "      fill: #174EA6;\n",
              "    }\n",
              "\n",
              "    [theme=dark] .colab-df-convert {\n",
              "      background-color: #3B4455;\n",
              "      fill: #D2E3FC;\n",
              "    }\n",
              "\n",
              "    [theme=dark] .colab-df-convert:hover {\n",
              "      background-color: #434B5C;\n",
              "      box-shadow: 0px 1px 3px 1px rgba(0, 0, 0, 0.15);\n",
              "      filter: drop-shadow(0px 1px 2px rgba(0, 0, 0, 0.3));\n",
              "      fill: #FFFFFF;\n",
              "    }\n",
              "  </style>\n",
              "\n",
              "      <script>\n",
              "        const buttonEl =\n",
              "          document.querySelector('#df-5bea86dc-cf73-4f20-836d-dccc0d135a2f button.colab-df-convert');\n",
              "        buttonEl.style.display =\n",
              "          google.colab.kernel.accessAllowed ? 'block' : 'none';\n",
              "\n",
              "        async function convertToInteractive(key) {\n",
              "          const element = document.querySelector('#df-5bea86dc-cf73-4f20-836d-dccc0d135a2f');\n",
              "          const dataTable =\n",
              "            await google.colab.kernel.invokeFunction('convertToInteractive',\n",
              "                                                     [key], {});\n",
              "          if (!dataTable) return;\n",
              "\n",
              "          const docLinkHtml = 'Like what you see? Visit the ' +\n",
              "            '<a target=\"_blank\" href=https://colab.research.google.com/notebooks/data_table.ipynb>data table notebook</a>'\n",
              "            + ' to learn more about interactive tables.';\n",
              "          element.innerHTML = '';\n",
              "          dataTable['output_type'] = 'display_data';\n",
              "          await google.colab.output.renderOutput(dataTable, element);\n",
              "          const docLink = document.createElement('div');\n",
              "          docLink.innerHTML = docLinkHtml;\n",
              "          element.appendChild(docLink);\n",
              "        }\n",
              "      </script>\n",
              "    </div>\n",
              "  </div>\n",
              "  "
            ]
          },
          "metadata": {},
          "execution_count": 17
        }
      ]
    },
    {
      "cell_type": "code",
      "source": [
        "data.to_csv('/content/drive/MyDrive/Colab Notebooks/sentiment labelled sentences/Combined_reviews.csv', index=False)"
      ],
      "metadata": {
        "id": "5-AwJJF9APm0"
      },
      "execution_count": null,
      "outputs": []
    },
    {
      "cell_type": "markdown",
      "source": [
        "#### Now We can Read Whole Data Directly From CSV File"
      ],
      "metadata": {
        "id": "h7f66nvBhXxT"
      }
    },
    {
      "cell_type": "code",
      "source": [
        "data = pd.read_csv('/content/drive/MyDrive/Colab Notebooks/sentiment labelled sentences/Combined_reviews.csv')"
      ],
      "metadata": {
        "id": "_JqhTUJyhiv3"
      },
      "execution_count": null,
      "outputs": []
    },
    {
      "cell_type": "code",
      "source": [
        "print(\"Number of data points : \",data.shape[0])"
      ],
      "metadata": {
        "colab": {
          "base_uri": "https://localhost:8080/"
        },
        "id": "FOAUmHxBrTzY",
        "outputId": "415f6ed1-2b84-4d75-9624-5f0a7d3a8973"
      },
      "execution_count": null,
      "outputs": [
        {
          "output_type": "stream",
          "name": "stdout",
          "text": [
            "Number of data points :  2748\n"
          ]
        }
      ]
    },
    {
      "cell_type": "code",
      "source": [
        "data.info()"
      ],
      "metadata": {
        "colab": {
          "base_uri": "https://localhost:8080/"
        },
        "id": "494Yy4VaiK0A",
        "outputId": "c642eb8d-f7dc-4597-99e5-a1b33d176d6e"
      },
      "execution_count": null,
      "outputs": [
        {
          "output_type": "stream",
          "name": "stdout",
          "text": [
            "<class 'pandas.core.frame.DataFrame'>\n",
            "RangeIndex: 2748 entries, 0 to 2747\n",
            "Data columns (total 3 columns):\n",
            " #   Column  Non-Null Count  Dtype \n",
            "---  ------  --------------  ----- \n",
            " 0   text    2748 non-null   object\n",
            " 1   label   2748 non-null   int64 \n",
            " 2   source  2748 non-null   object\n",
            "dtypes: int64(1), object(2)\n",
            "memory usage: 64.5+ KB\n"
          ]
        }
      ]
    },
    {
      "cell_type": "markdown",
      "source": [
        "#### Data Doesn't Contain any Null Values"
      ],
      "metadata": {
        "id": "DXBYmYS3vX7l"
      }
    },
    {
      "cell_type": "markdown",
      "source": [
        "#### How Much Data is Contributed by Each Source"
      ],
      "metadata": {
        "id": "BbZRj27iiw6J"
      }
    },
    {
      "cell_type": "code",
      "source": [
        "data['source'].value_counts().plot(\n",
        "    kind='pie',\n",
        "    autopct='%1.3f%%',\n",
        "    explode = [0.01,0.01,0.01],\n",
        "    startangle=90,\n",
        "    figsize=(5,5)\n",
        ")\n",
        "plt.show()"
      ],
      "metadata": {
        "colab": {
          "base_uri": "https://localhost:8080/",
          "height": 303
        },
        "id": "hdbWOzFMiuX4",
        "outputId": "9770ac38-4e9e-4885-f1ad-40a28b97725d"
      },
      "execution_count": null,
      "outputs": [
        {
          "output_type": "display_data",
          "data": {
            "text/plain": [
              "<Figure size 360x360 with 1 Axes>"
            ],
            "image/png": "[encoded data removed]"
          },
          "metadata": {}
        }
      ]
    },
    {
      "cell_type": "markdown",
      "source": [
        "#### Observation\n",
        "- Amazon Contributes <b>36.3%</b>\n",
        "- Imdb Contributes <b>27.2%</b>\n",
        "- And Yelp Contributes <b>36.3%</b>"
      ],
      "metadata": {
        "id": "oJyBPbHWk7sx"
      }
    },
    {
      "cell_type": "markdown",
      "source": [
        "#### Contribution of Each Sentiments in Data"
      ],
      "metadata": {
        "id": "YwqOfCJemIzX"
      }
    },
    {
      "cell_type": "code",
      "source": [
        "data['label'].value_counts().plot(\n",
        "    kind='pie',\n",
        "    autopct='%1.3f%%',\n",
        "    explode = [0.01,0.01],\n",
        "    figsize=(5,5)\n",
        ")\n",
        "plt.show()"
      ],
      "metadata": {
        "colab": {
          "base_uri": "https://localhost:8080/",
          "height": 303
        },
        "id": "L7SYTc5XloC_",
        "outputId": "b591472f-51f8-4051-d602-9b332bde049d"
      },
      "execution_count": null,
      "outputs": [
        {
          "output_type": "display_data",
          "data": {
            "text/plain": [
              "<Figure size 360x360 with 1 Axes>"
            ],
            "image/png": "[encoded data removed]"
          },
          "metadata": {}
        }
      ]
    },
    {
      "cell_type": "markdown",
      "source": [
        "#### Observation\n",
        "- Data contains Approx 50% positive and negative sentiments respectively\n",
        "- <b>1</b> Represents Positive Sentiment\n",
        "- <b>0</b> Represents Negative Sentiment"
      ],
      "metadata": {
        "id": "0OAqnrftnUSR"
      }
    },
    {
      "cell_type": "code",
      "source": [
        "print(\"~> {} sentiments are positive\".format(data['label'].value_counts(normalize=False)[1]))\n",
        "print(\"~> {} sentiments are negative\".format(data['label'].value_counts(normalize=False)[0]))"
      ],
      "metadata": {
        "colab": {
          "base_uri": "https://localhost:8080/"
        },
        "id": "JkWHdxHJpzhy",
        "outputId": "44101d9c-3881-48bb-eaf1-017fa051f33f"
      },
      "execution_count": null,
      "outputs": [
        {
          "output_type": "stream",
          "name": "stdout",
          "text": [
            "~> 1386 sentiments are positive\n",
            "~> 1362 sentiments are negative\n"
          ]
        }
      ]
    },
    {
      "cell_type": "code",
      "source": [
        "print ('Maximum number of times a same riview is repeated: {}\\n'.format(max(data['text'].value_counts())))"
      ],
      "metadata": {
        "colab": {
          "base_uri": "https://localhost:8080/"
        },
        "id": "GElUUXpmtYSi",
        "outputId": "2cec79a4-a517-4e0e-fdad-77eba17a29b9"
      },
      "execution_count": null,
      "outputs": [
        {
          "output_type": "stream",
          "name": "stdout",
          "text": [
            "Maximum number of times a same riview is repeated: 2\n",
            "\n"
          ]
        }
      ]
    },
    {
      "cell_type": "code",
      "source": [
        "reviews = data['text'].values\n",
        "sentiment = data['label'].values"
      ],
      "metadata": {
        "id": "AMTEYSjr63oc"
      },
      "execution_count": null,
      "outputs": []
    },
    {
      "cell_type": "markdown",
      "source": [
        "#### Text Preprocessing"
      ],
      "metadata": {
        "id": "L45HmjNe5zws"
      }
    },
    {
      "cell_type": "code",
      "source": [
        "# https://stackoverflow.com/a/47091490/4084039\n",
        "# Expanding Contracted Words if there is/are any\n",
        "\n",
        "def decontracted(phrase):\n",
        "    # specific\n",
        "    phrase = re.sub(r\"won't\", \"will not\", phrase)\n",
        "    phrase = re.sub(r\"can\\'t\", \"can not\", phrase)\n",
        "\n",
        "    # general\n",
        "    phrase = re.sub(r\"n\\'t\", \" not\", phrase)\n",
        "    phrase = re.sub(r\"\\'re\", \" are\", phrase)\n",
        "    phrase = re.sub(r\"\\'s\", \" is\", phrase)\n",
        "    phrase = re.sub(r\"\\'d\", \" would\", phrase)\n",
        "    phrase = re.sub(r\"\\'ll\", \" will\", phrase)\n",
        "    phrase = re.sub(r\"\\'t\", \" not\", phrase)\n",
        "    phrase = re.sub(r\"\\'ve\", \" have\", phrase)\n",
        "    phrase = re.sub(r\"\\'m\", \" am\", phrase)\n",
        "    return phrase"
      ],
      "metadata": {
        "id": "9w0b0BNm5zY_"
      },
      "execution_count": null,
      "outputs": []
    },
    {
      "cell_type": "code",
      "source": [
        "# for Example 27th review from amazon\n",
        "print(reviews[26])\n",
        "print('-'*20)\n",
        "print(decontracted(reviews[26]))"
      ],
      "metadata": {
        "colab": {
          "base_uri": "https://localhost:8080/"
        },
        "id": "e-STEkr36s3q",
        "outputId": "78f78188-2855-420e-ea6c-fb6cf21963e2"
      },
      "execution_count": null,
      "outputs": [
        {
          "output_type": "stream",
          "name": "stdout",
          "text": [
            "I've owned this phone for 7 months now and can say that it's the best mobile phone I've had.\n",
            "--------------------\n",
            "I have owned this phone for 7 months now and can say that it is the best mobile phone I have had.\n"
          ]
        }
      ]
    },
    {
      "cell_type": "code",
      "source": [
        "# Removing word and numbers\n",
        "# https://stackoverflow.com/a/18082370/4084039\n",
        "print(reviews[38])\n",
        "print('-'*20)\n",
        "print(re.sub(\"\\S*\\d\\S*\", \"\", reviews[38]).strip())"
      ],
      "metadata": {
        "colab": {
          "base_uri": "https://localhost:8080/"
        },
        "id": "QxIYuClbD3ug",
        "outputId": "a4571fb0-5e15-412c-bbf8-bce90837a640"
      },
      "execution_count": null,
      "outputs": [
        {
          "output_type": "stream",
          "name": "stdout",
          "text": [
            "The case is great and works fine with the 680.\n",
            "--------------------\n",
            "The case is great and works fine with the\n"
          ]
        }
      ]
    },
    {
      "cell_type": "code",
      "source": [
        "# Removing Special Characters \n",
        "# https://stackoverflow.com/a/5843547/4084039\n",
        "print(reviews[54])\n",
        "print('-'*20)\n",
        "print(re.sub('[^A-Za-z0-9]+', ' ', reviews[54]))"
      ],
      "metadata": {
        "colab": {
          "base_uri": "https://localhost:8080/"
        },
        "id": "qJLD3oExigoZ",
        "outputId": "e7d60a04-8d45-4842-86f6-ee9c3f9e3406"
      },
      "execution_count": null,
      "outputs": [
        {
          "output_type": "stream",
          "name": "stdout",
          "text": [
            "I love this thing!\n",
            "--------------------\n",
            "I love this thing \n"
          ]
        }
      ]
    },
    {
      "cell_type": "code",
      "source": [
        "# Stop Words Removal\n",
        "nltk.download('stopwords')\n",
        "\n",
        "print(stopwords)"
      ],
      "metadata": {
        "colab": {
          "base_uri": "https://localhost:8080/"
        },
        "id": "SrdP9Hb_oNnH",
        "outputId": "8c000b20-d78a-4b53-f22c-65e27a3bd0f0"
      },
      "execution_count": null,
      "outputs": [
        {
          "output_type": "stream",
          "name": "stdout",
          "text": [
            "[nltk_data] Downloading package stopwords to /root/nltk_data...\n",
            "[nltk_data]   Package stopwords is already up-to-date!\n",
            "{'yourself', 'below', 'do', 'during', 'any', 'on', 've', 'each', 'after', 'at', 'which', 'until', 'him', 'ours', 'he', 'have', 'me', 'above', 'up', 'then', 'no', 'shan', \"you'd\", \"shouldn't\", 'or', 'did', \"that'll\", 'yourselves', 'more', 'just', 'my', 'this', 'd', 'your', 'itself', 'further', 'll', \"couldn't\", 'once', 'haven', 'it', 'weren', 'too', 'shouldn', 'does', 'from', \"hadn't\", 'an', 'same', 'be', 'and', 'can', 'those', 'of', 'while', 't', 'is', 'into', 'hadn', 'are', 'what', 'before', 'had', 'them', 'being', 'not', 'between', \"needn't\", \"it's\", 'some', 'other', \"weren't\", 'herself', 'all', 'now', 'that', 'doesn', 'off', \"wasn't\", 'her', 'with', 'the', \"hasn't\", 'our', 'both', \"mustn't\", 'wouldn', 'themselves', 'a', 'i', 'if', 'were', 'so', \"isn't\", 'y', \"mightn't\", 'won', \"don't\", 'who', 'their', 'to', \"doesn't\", 'doing', 'o', 'you', 'his', 'yours', 'few', 'mightn', 'these', 'its', \"shan't\", \"should've\", 'theirs', 'again', 'when', \"you're\", 'such', \"she's\", 'than', 'whom', 'here', 'as', 'ma', 'there', 'how', 'own', \"you've\", 'against', 'they', 'myself', 'only', 's', 'hers', 'by', 'wasn', 'ourselves', 'about', 'down', 'couldn', \"haven't\", 'am', 'mustn', 'over', 'aren', 'where', \"didn't\", 'hasn', 'has', 'isn', 'she', 'we', 'ain', 'was', 'but', 'because', 'through', 'himself', 'out', \"wouldn't\", 'under', 'very', 'nor', 'should', 're', \"won't\", 'needn', 'will', 'in', 'most', \"aren't\", 'having', 'don', 'm', 'been', \"you'll\", 'why', 'for', 'didn'}\n"
          ]
        }
      ]
    },
    {
      "cell_type": "code",
      "source": [
        "# Combining all the above Steps in one\n",
        "from tqdm import tqdm\n",
        "preprocessed_reviews = []\n",
        "for sentence in tqdm(reviews):\n",
        "  sentence = decontracted(sentence)\n",
        "  sentence = re.sub(\"\\S*\\d\\S*\", \"\", sentence).strip()\n",
        "  sentence = re.sub('[^A-Za-z0-9]+', ' ', sentence)\n",
        "  sentence = ' '.join(word.lower() for word in sentence.split() if word.lower() not in stopwords)\n",
        "  preprocessed_reviews.append(sentence.strip())"
      ],
      "metadata": {
        "colab": {
          "base_uri": "https://localhost:8080/"
        },
        "id": "ud_RSGEyp7X_",
        "outputId": "a2106c4d-bbe6-402d-e391-1c5378d37f06"
      },
      "execution_count": null,
      "outputs": [
        {
          "output_type": "stream",
          "name": "stderr",
          "text": [
            "100%|██████████| 2748/2748 [00:00<00:00, 6527.99it/s]\n"
          ]
        }
      ]
    },
    {
      "cell_type": "code",
      "source": [
        "preprocessed_reviews[8]"
      ],
      "metadata": {
        "colab": {
          "base_uri": "https://localhost:8080/",
          "height": 35
        },
        "id": "DT_j7Txltvg7",
        "outputId": "3a7f3fce-e5dc-4359-a246-3a2dc3fe026b"
      },
      "execution_count": null,
      "outputs": [
        {
          "output_type": "execute_result",
          "data": {
            "text/plain": [
              "'needless say wasted money'"
            ],
            "application/vnd.google.colaboratory.intrinsic+json": {
              "type": "string"
            }
          },
          "metadata": {},
          "execution_count": 30
        }
      ]
    },
    {
      "cell_type": "markdown",
      "source": [
        "#### Creating Training and Testing Data\n"
      ],
      "metadata": {
        "id": "ae-4PVxcvgXi"
      }
    },
    {
      "cell_type": "code",
      "source": [
        "train_sent, test_sent, y_train, y_test = train_test_split(preprocessed_reviews, sentiment, test_size=0.2,\n",
        "                                                          shuffle=True, stratify=sentiment)"
      ],
      "metadata": {
        "id": "z7upLnWFuIsh"
      },
      "execution_count": null,
      "outputs": []
    },
    {
      "cell_type": "code",
      "source": [
        "np.unique(y_train, return_counts=True)"
      ],
      "metadata": {
        "colab": {
          "base_uri": "https://localhost:8080/"
        },
        "id": "kd_RNFgR5igp",
        "outputId": "f9e6ff97-7c5d-423d-a046-531596392d66"
      },
      "execution_count": null,
      "outputs": [
        {
          "output_type": "execute_result",
          "data": {
            "text/plain": [
              "(array([0, 1]), array([1089, 1109]))"
            ]
          },
          "metadata": {},
          "execution_count": 46
        }
      ]
    },
    {
      "cell_type": "code",
      "source": [
        "plt.pie(np.unique(y_train, return_counts=True)[1], autopct='%.2f%%', explode=(0.01,0.01),\n",
        "                      labels=[0,1]  )\n",
        "plt.legend()\n",
        "plt.title('Distribution of Sentiments in Training Data')\n",
        "plt.show()"
      ],
      "metadata": {
        "colab": {
          "base_uri": "https://localhost:8080/",
          "height": 264
        },
        "id": "3fSZz1F3wMwC",
        "outputId": "be6c12ce-56ae-4372-e356-29453aa1f0ce"
      },
      "execution_count": null,
      "outputs": [
        {
          "output_type": "display_data",
          "data": {
            "text/plain": [
              "<Figure size 432x288 with 1 Axes>"
            ],
            "image/png": "[encoded data removed]"
          },
          "metadata": {}
        }
      ]
    },
    {
      "cell_type": "markdown",
      "source": [
        "#### Function for Plotting Confusion Matrix and ROC-curve"
      ],
      "metadata": {
        "id": "lOeSmNK_NhJz"
      }
    },
    {
      "cell_type": "code",
      "source": [
        "def plot_confusion_matrix(test_y, predict_y):\n",
        "    C = confusion_matrix(test_y, predict_y)\n",
        "    plt.figure(figsize=(8,6))\n",
        "    \n",
        "    labels = [0,1]\n",
        "    cmap=sns.light_palette(\"blue\")\n",
        "    sns.heatmap(C, annot=True, cmap=cmap, fmt=\".3f\", xticklabels=labels, yticklabels=labels)\n",
        "    plt.xlabel('Predicted Class')\n",
        "    plt.ylabel('Original Class')\n",
        "    plt.title(\"Confusion matrix\")\n",
        "    \n",
        "    plt.show()"
      ],
      "metadata": {
        "id": "Im5pwI629xBs"
      },
      "execution_count": null,
      "outputs": []
    },
    {
      "cell_type": "code",
      "source": [
        "def plot_roc(clf, train_x, train_y, test_x, test_y):\n",
        "  # For Testing\n",
        "  y_pred_proba_test = clf.predict_proba(test_x)[::,1]\n",
        "  fpr_test, tpr_test, _ = roc_curve(test_y,  y_pred_proba_test)\n",
        "  auc_test = roc_auc_score(test_y, y_pred_proba_test)\n",
        "\n",
        "  # For Training\n",
        "  y_pred_proba_train = clf.predict_proba(train_x)[::,1]\n",
        "  fpr_train, tpr_train, _ = roc_curve(train_y,  y_pred_proba_train)\n",
        "  auc_train = roc_auc_score(train_y, y_pred_proba_train)\n",
        "\n",
        "  #create ROC curve\n",
        "  plt.plot(fpr_test, tpr_test,label=\"AUC_Test=\"+str(auc_test))\n",
        "  plt.plot(fpr_train, tpr_train,label=\"AUC_Train=\"+str(auc_train))\n",
        "  plt.plot([0, 1], [0, 1],'r--')\n",
        "  plt.ylabel('True Positive Rate')\n",
        "  plt.xlabel('False Positive Rate')\n",
        "  plt.legend(loc=4)\n",
        "  plt.show()"
      ],
      "metadata": {
        "id": "2JJwxzvXTMTH"
      },
      "execution_count": null,
      "outputs": []
    },
    {
      "cell_type": "markdown",
      "source": [
        "### Featurization\n",
        "\n",
        "- BoW"
      ],
      "metadata": {
        "id": "_r9BZojjF2O_"
      }
    },
    {
      "cell_type": "code",
      "source": [
        "count_vect = CountVectorizer(max_features=500)\n",
        "count_vect_train = count_vect.fit_transform(train_sent)\n",
        "count_vect_test = count_vect.transform(test_sent)\n",
        "\n",
        "print(\"Train Size BoW ~> \", count_vect_train.shape)\n",
        "print(\"Test Size BoW ~> \", count_vect_test.shape)"
      ],
      "metadata": {
        "colab": {
          "base_uri": "https://localhost:8080/"
        },
        "id": "Kf1dX7FB8h02",
        "outputId": "fd22f146-9ddf-4bdd-ac7c-61ca676a695f"
      },
      "execution_count": null,
      "outputs": [
        {
          "output_type": "stream",
          "name": "stdout",
          "text": [
            "Train Size BoW ~>  (2198, 500)\n",
            "Test Size BoW ~>  (550, 500)\n"
          ]
        }
      ]
    },
    {
      "cell_type": "code",
      "source": [
        "logreg = LogisticRegression()\n",
        "logreg.fit(count_vect_train, y_train)"
      ],
      "metadata": {
        "colab": {
          "base_uri": "https://localhost:8080/"
        },
        "id": "ahvFBQXmH5hT",
        "outputId": "b03606a1-e62c-4b4c-8906-69d8084f0466"
      },
      "execution_count": null,
      "outputs": [
        {
          "output_type": "execute_result",
          "data": {
            "text/plain": [
              "LogisticRegression()"
            ]
          },
          "metadata": {},
          "execution_count": 56
        }
      ]
    },
    {
      "cell_type": "code",
      "source": [
        "print('Training Accuracy Score ~>',accuracy_score(y_train,logreg.predict(count_vect_train)))\n",
        "print('Testing Accuracy Score ~>',accuracy_score(y_test,logreg.predict(count_vect_test)))"
      ],
      "metadata": {
        "colab": {
          "base_uri": "https://localhost:8080/"
        },
        "id": "MqITa-YtJrJg",
        "outputId": "feca3b93-c2ef-45a5-eb7e-b31f9393e9fa"
      },
      "execution_count": null,
      "outputs": [
        {
          "output_type": "stream",
          "name": "stdout",
          "text": [
            "Training Accuracy Score ~> 0.8685168334849863\n",
            "Testing Accuracy Score ~> 0.7745454545454545\n"
          ]
        }
      ]
    },
    {
      "cell_type": "code",
      "source": [
        ""
      ],
      "metadata": {
        "colab": {
          "base_uri": "https://localhost:8080/"
        },
        "id": "ph8U07SdUR_5",
        "outputId": "3ba50262-b428-4856-a12c-d190d7a12f3a"
      },
      "execution_count": null,
      "outputs": [
        {
          "output_type": "execute_result",
          "data": {
            "text/plain": [
              "0.7802400900893889"
            ]
          },
          "metadata": {},
          "execution_count": 181
        }
      ]
    },
    {
      "cell_type": "code",
      "source": [
        "plot_confusion_matrix(y_train, logreg.predict(count_vect_train))"
      ],
      "metadata": {
        "colab": {
          "base_uri": "https://localhost:8080/",
          "height": 404
        },
        "id": "yKxJvS-zXcip",
        "outputId": "0e116c69-0d24-4a6d-bef3-5aafb5489d24"
      },
      "execution_count": null,
      "outputs": [
        {
          "output_type": "display_data",
          "data": {
            "text/plain": [
              "<Figure size 576x432 with 2 Axes>"
            ],
            "image/png": "[encoded data removed]"
          },
          "metadata": {
            "needs_background": "light"
          }
        }
      ]
    },
    {
      "cell_type": "code",
      "source": [
        "plot_roc(logreg, count_vect_train, y_train, count_vect_test, y_test)"
      ],
      "metadata": {
        "colab": {
          "base_uri": "https://localhost:8080/",
          "height": 279
        },
        "id": "Ous8DWPOZEIe",
        "outputId": "bf9da003-8a57-441f-cb84-c80b857eb7b0"
      },
      "execution_count": null,
      "outputs": [
        {
          "output_type": "display_data",
          "data": {
            "text/plain": [
              "<Figure size 432x288 with 1 Axes>"
            ],
            "image/png": "[encoded data removed]"
          },
          "metadata": {
            "needs_background": "light"
          }
        }
      ]
    },
    {
      "cell_type": "code",
      "source": [
        "count_vect_1000 = CountVectorizer(max_features=1000, ngram_range=(1,2))\n",
        "count_vect_train_1000 = count_vect_1000.fit_transform(train_sent)\n",
        "count_vect_test_1000 = count_vect_1000.transform(test_sent)\n",
        "\n",
        "print(\"Train Size BoW ~> \", count_vect_train_1000.shape)\n",
        "print(\"Test Size BoW ~> \", count_vect_test_1000.shape)\n",
        "\n",
        "logreg_1000 = LogisticRegression()\n",
        "logreg_1000.fit(count_vect_train_1000, y_train)\n",
        "\n",
        "print('Training Accuracy Score ~>',accuracy_score(y_train,logreg_1000.predict(count_vect_train_1000)))\n",
        "print('Testing Accuracy Score ~>',accuracy_score(y_test,logreg_1000.predict(count_vect_test_1000)))"
      ],
      "metadata": {
        "colab": {
          "base_uri": "https://localhost:8080/"
        },
        "id": "9BSrIxWpLIXs",
        "outputId": "88066772-67f4-46f8-be13-1324c8a53e21"
      },
      "execution_count": null,
      "outputs": [
        {
          "output_type": "stream",
          "name": "stdout",
          "text": [
            "Train Size BoW ~>  (2198, 1000)\n",
            "Test Size BoW ~>  (550, 1000)\n",
            "Training Accuracy Score ~> 0.9126478616924477\n",
            "Testing Accuracy Score ~> 0.8018181818181818\n"
          ]
        }
      ]
    },
    {
      "cell_type": "code",
      "source": [
        "plot_confusion_matrix(y_train, logreg_1000.predict(count_vect_train_1000))"
      ],
      "metadata": {
        "colab": {
          "base_uri": "https://localhost:8080/",
          "height": 404
        },
        "id": "1ObRo_eZaAbj",
        "outputId": "113bc0f0-a2d5-43db-f52a-b7f657c8df73"
      },
      "execution_count": null,
      "outputs": [
        {
          "output_type": "display_data",
          "data": {
            "text/plain": [
              "<Figure size 576x432 with 2 Axes>"
            ],
            "image/png": "[encoded data removed]"
          },
          "metadata": {
            "needs_background": "light"
          }
        }
      ]
    },
    {
      "cell_type": "code",
      "source": [
        "plot_roc(logreg_1000, count_vect_train_1000, y_train, count_vect_test_1000, y_test)"
      ],
      "metadata": {
        "colab": {
          "base_uri": "https://localhost:8080/",
          "height": 279
        },
        "id": "gK3M0G4WclqA",
        "outputId": "c4d8d319-5400-4cd1-d937-ba7c108ba785"
      },
      "execution_count": null,
      "outputs": [
        {
          "output_type": "display_data",
          "data": {
            "text/plain": [
              "<Figure size 432x288 with 1 Axes>"
            ],
            "image/png": "[encoded data removed]"
          },
          "metadata": {
            "needs_background": "light"
          }
        }
      ]
    },
    {
      "cell_type": "markdown",
      "source": [
        "#### Classifier\n",
        "- SVM on uni and bigram features"
      ],
      "metadata": {
        "id": "Xfzf09T9OTzw"
      }
    },
    {
      "cell_type": "code",
      "source": [
        "svm_clf = svm.SVC(probability=True)\n",
        "svm_clf.fit(count_vect_train_1000, y_train)\n",
        "\n",
        "print('Training Accuracy Score SVM ~>',accuracy_score(y_train,svm_clf.predict(count_vect_train_1000)))\n",
        "print('Testing Accuracy Score SVM ~>',accuracy_score(y_test,svm_clf.predict(count_vect_test_1000)))\n"
      ],
      "metadata": {
        "colab": {
          "base_uri": "https://localhost:8080/"
        },
        "id": "ibvFZmhVOWAP",
        "outputId": "03241932-f464-44aa-fadc-b8cfa393ebe3"
      },
      "execution_count": null,
      "outputs": [
        {
          "output_type": "stream",
          "name": "stdout",
          "text": [
            "Training Accuracy Score SVM ~> 0.9322111010009099\n",
            "Testing Accuracy Score SVM ~> 0.8145454545454546\n"
          ]
        }
      ]
    },
    {
      "cell_type": "code",
      "source": [
        "plot_confusion_matrix(y_train, svm_clf.predict(count_vect_train_1000))"
      ],
      "metadata": {
        "colab": {
          "base_uri": "https://localhost:8080/",
          "height": 404
        },
        "id": "vxVS38pVgjlL",
        "outputId": "268ad8cf-a6a4-4707-d4f1-edc4182dd8c6"
      },
      "execution_count": null,
      "outputs": [
        {
          "output_type": "display_data",
          "data": {
            "text/plain": [
              "<Figure size 576x432 with 2 Axes>"
            ],
            "image/png": "[encoded data removed]"
          },
          "metadata": {
            "needs_background": "light"
          }
        }
      ]
    },
    {
      "cell_type": "code",
      "source": [
        "plot_roc(svm_clf, count_vect_train_1000, y_train, count_vect_test_1000, y_test)"
      ],
      "metadata": {
        "colab": {
          "base_uri": "https://localhost:8080/",
          "height": 279
        },
        "id": "Nu6madPGgEz_",
        "outputId": "96db6734-f6ea-4e73-9677-4d0170b906f7"
      },
      "execution_count": null,
      "outputs": [
        {
          "output_type": "display_data",
          "data": {
            "text/plain": [
              "<Figure size 432x288 with 1 Axes>"
            ],
            "image/png": "[encoded data removed]"
          },
          "metadata": {
            "needs_background": "light"
          }
        }
      ]
    },
    {
      "cell_type": "markdown",
      "source": [
        "#### Featurization\n",
        "- Tf-Idf"
      ],
      "metadata": {
        "id": "_anumuh1l6lo"
      }
    },
    {
      "cell_type": "code",
      "source": [
        "tf_vect= TfidfVectorizer(max_features=500)\n",
        "tf_vect_train = tf_vect.fit_transform(train_sent)\n",
        "tf_vect_test = tf_vect.transform(test_sent)"
      ],
      "metadata": {
        "id": "LQPxyby9qKhk"
      },
      "execution_count": null,
      "outputs": []
    },
    {
      "cell_type": "code",
      "source": [
        "logreg_tf = LogisticRegression()\n",
        "logreg_tf.fit(tf_vect_train, y_train)\n",
        "\n",
        "print('Training Accuracy Score ~>',accuracy_score(y_train,logreg_tf.predict(tf_vect_train)))\n",
        "print('Testing Accuracy Score ~>',accuracy_score(y_test,logreg_tf.predict(tf_vect_test)))"
      ],
      "metadata": {
        "colab": {
          "base_uri": "https://localhost:8080/"
        },
        "id": "Wasn5iFzriio",
        "outputId": "eab29535-9c00-4451-c8ab-3e31a484541f"
      },
      "execution_count": null,
      "outputs": [
        {
          "output_type": "stream",
          "name": "stdout",
          "text": [
            "Training Accuracy Score ~> 0.8516833484986351\n",
            "Testing Accuracy Score ~> 0.7818181818181819\n"
          ]
        }
      ]
    },
    {
      "cell_type": "code",
      "source": [
        "plot_confusion_matrix(y_train, logreg_tf.predict(tf_vect_train))\n"
      ],
      "metadata": {
        "colab": {
          "base_uri": "https://localhost:8080/",
          "height": 404
        },
        "id": "DE-n8gpjhBwo",
        "outputId": "4d8b5cab-dbb0-41b8-953c-aae5abad6d19"
      },
      "execution_count": null,
      "outputs": [
        {
          "output_type": "display_data",
          "data": {
            "text/plain": [
              "<Figure size 576x432 with 2 Axes>"
            ],
            "image/png": "[encoded data removed]"
          },
          "metadata": {
            "needs_background": "light"
          }
        }
      ]
    },
    {
      "cell_type": "code",
      "source": [
        "plot_roc(logreg_tf, tf_vect_train, y_train, tf_vect_test, y_test)"
      ],
      "metadata": {
        "colab": {
          "base_uri": "https://localhost:8080/",
          "height": 279
        },
        "id": "GY2PKFZLkeR0",
        "outputId": "c1a03904-e67c-4ce4-d537-750054243c66"
      },
      "execution_count": null,
      "outputs": [
        {
          "output_type": "display_data",
          "data": {
            "text/plain": [
              "<Figure size 432x288 with 1 Axes>"
            ],
            "image/png": "[encoded data removed]"
          },
          "metadata": {
            "needs_background": "light"
          }
        }
      ]
    },
    {
      "cell_type": "code",
      "source": [
        "tf_vect_1000= TfidfVectorizer(max_features=1000, ngram_range=(1,2))\n",
        "tf_vect_train_1000 = tf_vect_1000.fit_transform(train_sent)\n",
        "tf_vect_test_1000 = tf_vect_1000.transform(test_sent)\n",
        "\n",
        "tf_logreg_1000 = LogisticRegression()\n",
        "tf_logreg_1000.fit(tf_vect_train_1000, y_train)\n",
        "\n",
        "print('Training Accuracy Score ~>',accuracy_score(y_train,tf_logreg_1000.predict(tf_vect_train_1000)))\n",
        "print('Testing Accuracy Score ~>',accuracy_score(y_test,tf_logreg_1000.predict(tf_vect_test_1000)))"
      ],
      "metadata": {
        "colab": {
          "base_uri": "https://localhost:8080/"
        },
        "id": "LOhGVKgwsIyV",
        "outputId": "ab51c99e-62b2-4e33-96af-ba44dc778234"
      },
      "execution_count": null,
      "outputs": [
        {
          "output_type": "stream",
          "name": "stdout",
          "text": [
            "Training Accuracy Score ~> 0.8953594176524113\n",
            "Testing Accuracy Score ~> 0.8018181818181818\n"
          ]
        }
      ]
    },
    {
      "cell_type": "code",
      "source": [
        "plot_confusion_matrix(y_train, tf_logreg_1000.predict(tf_vect_train_1000))\n"
      ],
      "metadata": {
        "colab": {
          "base_uri": "https://localhost:8080/",
          "height": 404
        },
        "id": "TU6JDv1to-HM",
        "outputId": "7206f3e5-4b5c-4d8b-8e6e-9ed4242c3a5a"
      },
      "execution_count": null,
      "outputs": [
        {
          "output_type": "display_data",
          "data": {
            "text/plain": [
              "<Figure size 576x432 with 2 Axes>"
            ],
            "image/png": "[encoded data removed]"
          },
          "metadata": {
            "needs_background": "light"
          }
        }
      ]
    },
    {
      "cell_type": "code",
      "source": [
        "svm_clf_tf = svm.SVC(probability=True)\n",
        "svm_clf_tf.fit(tf_vect_train_1000, y_train)\n",
        "\n",
        "print('Training Accuracy Score SVM ~>',accuracy_score(y_train, svm_clf_tf.predict(tf_vect_train_1000)))\n",
        "print('Testing Accuracy Score SVM ~>',accuracy_score(y_test, svm_clf_tf.predict(tf_vect_test_1000)))\n"
      ],
      "metadata": {
        "colab": {
          "base_uri": "https://localhost:8080/"
        },
        "id": "KnI9RJACuFAk",
        "outputId": "5df10c54-6b06-4109-a89d-7049106fdc35"
      },
      "execution_count": null,
      "outputs": [
        {
          "output_type": "stream",
          "name": "stdout",
          "text": [
            "Training Accuracy Score SVM ~> 0.9663330300272975\n",
            "Testing Accuracy Score SVM ~> 0.8181818181818182\n"
          ]
        }
      ]
    },
    {
      "cell_type": "code",
      "source": [
        "plot_confusion_matrix(y_train,svm_clf_tf.predict(tf_vect_train_1000))"
      ],
      "metadata": {
        "colab": {
          "base_uri": "https://localhost:8080/",
          "height": 404
        },
        "id": "qwoURpP1EO5Y",
        "outputId": "20c226e9-a4e0-4069-d69b-830a24249fea"
      },
      "execution_count": null,
      "outputs": [
        {
          "output_type": "display_data",
          "data": {
            "text/plain": [
              "<Figure size 576x432 with 2 Axes>"
            ],
            "image/png": "[encoded data removed]"
          },
          "metadata": {
            "needs_background": "light"
          }
        }
      ]
    },
    {
      "cell_type": "code",
      "source": [
        "plot_roc(svm_clf_tf, tf_vect_train_1000, y_train, tf_vect_test_1000, y_test)"
      ],
      "metadata": {
        "colab": {
          "base_uri": "https://localhost:8080/",
          "height": 279
        },
        "id": "XGK9ws2kpkrt",
        "outputId": "a58a26e4-32c3-420d-b2bb-a5aba5cd818e"
      },
      "execution_count": null,
      "outputs": [
        {
          "output_type": "display_data",
          "data": {
            "text/plain": [
              "<Figure size 432x288 with 1 Axes>"
            ],
            "image/png": "[encoded data removed]"
          },
          "metadata": {
            "needs_background": "light"
          }
        }
      ]
    },
    {
      "cell_type": "code",
      "source": [
        "plot_confusion_matrix(y_test,svm_clf_tf.predict(tf_vect_test_1000))"
      ],
      "metadata": {
        "colab": {
          "base_uri": "https://localhost:8080/",
          "height": 404
        },
        "id": "CCwOhy-nD3JE",
        "outputId": "fb8df96b-633a-4220-e5be-db8faca65661"
      },
      "execution_count": null,
      "outputs": [
        {
          "output_type": "display_data",
          "data": {
            "text/plain": [
              "<Figure size 576x432 with 2 Axes>"
            ],
            "image/png": "[encoded data removed]"
          },
          "metadata": {
            "needs_background": "light"
          }
        }
      ]
    },
    {
      "cell_type": "markdown",
      "source": [
        "#### Observations \n",
        "- BoW and TfIdf based features are having similar result for Logistic Regression\n",
        "  - For 1 gram based features\n",
        "- For 1 gram and bi-gram based 1000 features, SVM is having better result than Logistic Regression\n",
        "  - But SVM is overfitting on TfIdf based 1000 features"
      ],
      "metadata": {
        "id": "A2TY5zv9-PqJ"
      }
    },
    {
      "cell_type": "markdown",
      "source": [
        "### Next Steps\n",
        "- Hyperparameter Tuning of SVM and Logistic Regression\n",
        "  - Train SGDClassifier with different sets of alpha for **logloss** and **hingeloss** "
      ],
      "metadata": {
        "id": "hKu_LA9m9WJx"
      }
    }
  ]
}